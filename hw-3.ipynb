# pda9-hw-3
